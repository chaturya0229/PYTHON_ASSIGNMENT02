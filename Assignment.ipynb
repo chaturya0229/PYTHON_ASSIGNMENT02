{
 "cells": [
  {
   "cell_type": "code",
   "execution_count": 1,
   "id": "b5a31a25-0001-4068-b70a-28377866d321",
   "metadata": {},
   "outputs": [
    {
     "name": "stdout",
     "output_type": "stream",
     "text": [
      "* \n",
      "* * \n",
      "* * * \n",
      "* * * * \n",
      "* * * * * \n"
     ]
    }
   ],
   "source": [
    "for i in range(1,6):\n",
    "    for j in range(i):\n",
    "        print(\"*\",end=\" \")\n",
    "    print()"
   ]
  },
  {
   "cell_type": "code",
   "execution_count": 3,
   "id": "ea772b63-ba18-40c1-9afe-914cef67de7e",
   "metadata": {},
   "outputs": [
    {
     "name": "stdout",
     "output_type": "stream",
     "text": [
      "* * * * * \n",
      "* * * * \n",
      "* * * \n",
      "* * \n",
      "* \n"
     ]
    }
   ],
   "source": [
    "for i in range(5,0,-1):\n",
    "    for j in range(1,1+i):\n",
    "        print(\"*\",end=\" \")\n",
    "    print()"
   ]
  },
  {
   "cell_type": "code",
   "execution_count": 19,
   "id": "c9d4e7da-d0aa-4a00-bf49-19262677bdcc",
   "metadata": {},
   "outputs": [
    {
     "name": "stdout",
     "output_type": "stream",
     "text": [
      "1 \n",
      "2 2 \n",
      "3 3 3 \n",
      "4 4 4 4 \n"
     ]
    }
   ],
   "source": [
    "for i in range(1,i+3):\n",
    "    for j in range(i):\n",
    "        print(i,end=' ')\n",
    "    print()"
   ]
  },
  {
   "cell_type": "code",
   "execution_count": 15,
   "id": "8b040c67-0eb9-4aa7-bde9-7f70935d36f7",
   "metadata": {},
   "outputs": [
    {
     "name": "stdout",
     "output_type": "stream",
     "text": [
      "5 4 3 2 1 \n",
      "4 3 2 1 \n",
      "3 2 1 \n",
      "2 1 \n",
      "1 \n"
     ]
    }
   ],
   "source": [
    "for i in range(5,0,-1):\n",
    "    for j in range(i,0,-1):\n",
    "        print(j,end=\" \")\n",
    "    print()"
   ]
  },
  {
   "cell_type": "code",
   "execution_count": 17,
   "id": "b88729c6-d8b2-4b68-84fd-54567e7acbd7",
   "metadata": {},
   "outputs": [
    {
     "name": "stdout",
     "output_type": "stream",
     "text": [
      "* * * * * \n",
      "*       * \n",
      "*       * \n",
      "*       * \n",
      "* * * * * \n"
     ]
    }
   ],
   "source": [
    "for i in range(5):\n",
    "    for j in range(5):\n",
    "        if i==0 or i==5-1 or j==0 or j==5-1:\n",
    "            print(\"*\",end=\" \")\n",
    "        else:\n",
    "            print(\" \",end=\" \")\n",
    "    print()"
   ]
  },
  {
   "cell_type": "code",
   "execution_count": 27,
   "id": "70c71f78-da11-4d66-859f-cf0c8cc66ee3",
   "metadata": {},
   "outputs": [
    {
     "name": "stdout",
     "output_type": "stream",
     "text": [
      "  * \n",
      " * * \n",
      "* * * \n",
      " * * \n",
      "  * \n",
      "   \n"
     ]
    }
   ],
   "source": [
    "for i in range(1,4):\n",
    "    for j in range(1,4-i):\n",
    "        print(end=\" \")\n",
    "    for j in range(1,i+1):\n",
    "        print(\"*\",end=\" \")\n",
    "    print()\n",
    "for i in range(1,4):\n",
    "    for j in range(1,i+1):\n",
    "        print(end=\" \")\n",
    "    for j in range(1,4-i):\n",
    "        print(\"*\",end=\" \")\n",
    "    print()"
   ]
  },
  {
   "cell_type": "code",
   "execution_count": 63,
   "id": "f5e51245-cac4-4caa-89aa-9743762e9898",
   "metadata": {},
   "outputs": [
    {
     "name": "stdin",
     "output_type": "stream",
     "text": [
      " 5\n"
     ]
    },
    {
     "name": "stdout",
     "output_type": "stream",
     "text": [
      "    1 \n",
      "   1 1 \n",
      "  1 2 1 \n",
      " 1 3 3 1 \n",
      "1 4 6 4 1 \n"
     ]
    }
   ],
   "source": [
    "n = int(input())\n",
    "for i in range(n):\n",
    "    value = 1\n",
    "    for j in range(n - i - 1):\n",
    "        print(\" \", end=\"\")\n",
    "    for j in range(i + 1):\n",
    "        print(value, end=\" \")\n",
    "        value = value * (i - j) // (j + 1)\n",
    "    print()"
   ]
  },
  {
   "cell_type": "code",
   "execution_count": 45,
   "id": "b3126f85-a01d-45db-a216-d466300cc489",
   "metadata": {},
   "outputs": [
    {
     "name": "stdin",
     "output_type": "stream",
     "text": [
      "enter a number 9\n"
     ]
    },
    {
     "name": "stdout",
     "output_type": "stream",
     "text": [
      "4\n"
     ]
    }
   ],
   "source": [
    "n=int(input(\"enter a number\"))\n",
    "sum=0\n",
    "for i in range(1,n+1):\n",
    "    if i %2==0:\n",
    "        sum+=1\n",
    "print(sum)"
   ]
  },
  {
   "cell_type": "code",
   "execution_count": 49,
   "id": "7badae03-137a-40ee-bb50-98d8bcc2daee",
   "metadata": {},
   "outputs": [
    {
     "name": "stdin",
     "output_type": "stream",
     "text": [
      " 7\n"
     ]
    },
    {
     "name": "stdout",
     "output_type": "stream",
     "text": [
      "\n"
     ]
    }
   ],
   "source": [
    "n=int(input())\n",
    "t=1\n",
    "if n <0:\n",
    "    print(\"negative number\")\n",
    "elif n==0 or n==1:\n",
    "    print(\"factorial is 1\")\n",
    "else:\n",
    "    for i in range(1,n+1):\n",
    "        t*=i\n",
    "    print()"
   ]
  },
  {
   "cell_type": "code",
   "execution_count": 59,
   "id": "764989ea-3464-4368-a18d-f500911cf5ca",
   "metadata": {},
   "outputs": [
    {
     "name": "stdin",
     "output_type": "stream",
     "text": [
      " 4\n"
     ]
    },
    {
     "name": "stdout",
     "output_type": "stream",
     "text": [
      "not a prime number\n"
     ]
    }
   ],
   "source": [
    "def prime(n):\n",
    "    if n>0:\n",
    "        for i in range(2,n):\n",
    "            if n%i==0:\n",
    "                print(\"not a prime number\")\n",
    "                break\n",
    "            else:\n",
    "                print(\"prime number\")\n",
    "    else:\n",
    "        print(\"not prime\")\n",
    "n=int(input())\n",
    "prime(n)"
   ]
  },
  {
   "cell_type": "code",
   "execution_count": 65,
   "id": "179f46b0-6774-4674-9c0f-daae490d4fe2",
   "metadata": {},
   "outputs": [
    {
     "name": "stdin",
     "output_type": "stream",
     "text": [
      " 4\n"
     ]
    },
    {
     "name": "stdout",
     "output_type": "stream",
     "text": [
      "0\n"
     ]
    }
   ],
   "source": [
    "str=input()\n",
    "str.lower()\n",
    "c=0\n",
    "for i in str:\n",
    "    if i=='a' or i=='e' or i=='i' or i=='o' or i=='u':\n",
    "        c++1\n",
    "print(c)"
   ]
  },
  {
   "cell_type": "code",
   "execution_count": 71,
   "id": "f1355ccb-99f9-4008-807b-52b40f3791bb",
   "metadata": {},
   "outputs": [
    {
     "name": "stdin",
     "output_type": "stream",
     "text": [
      "enter a string: 11\n"
     ]
    },
    {
     "name": "stdout",
     "output_type": "stream",
     "text": [
      " 11\n"
     ]
    }
   ],
   "source": [
    "def reverse(s):\n",
    "    reversed_str=\" \"\n",
    "    for i in range(len(s)-1,-1,-1):\n",
    "        reversed_str+=s[1]\n",
    "    return reversed_str\n",
    "s=input(\"enter a string:\")\n",
    "reversed_s=reverse(s)\n",
    "print(reversed_s)"
   ]
  },
  {
   "cell_type": "code",
   "execution_count": 23,
   "id": "d9924d73-44e8-4810-be01-0e5b83cc8cad",
   "metadata": {},
   "outputs": [
    {
     "name": "stdin",
     "output_type": "stream",
     "text": [
      "even a string: string\n"
     ]
    },
    {
     "name": "stdout",
     "output_type": "stream",
     "text": [
      "string\n",
      "string\n",
      "string\n",
      "string\n",
      "string\n",
      "string\n",
      "string\n",
      "string\n",
      "string\n",
      "string\n",
      "string\n",
      "string\n",
      "tring\n",
      "tring\n",
      "tring\n",
      "tring\n",
      "tring\n",
      "string\n",
      "string\n",
      "string\n",
      "string\n",
      "string\n",
      "string\n",
      "tring\n",
      "tring\n",
      "tring\n",
      "tring\n",
      "tring\n",
      "ring\n",
      "ring\n",
      "ring\n",
      "ring\n",
      "string\n",
      "string\n",
      "string\n",
      "string\n",
      "string\n",
      "string\n",
      "tring\n",
      "tring\n",
      "tring\n",
      "tring\n",
      "tring\n",
      "ring\n",
      "ring\n",
      "ring\n",
      "ring\n",
      "ing\n",
      "ing\n",
      "ing\n",
      "string\n",
      "string\n",
      "string\n",
      "string\n",
      "string\n",
      "string\n",
      "tring\n",
      "tring\n",
      "tring\n",
      "tring\n",
      "tring\n",
      "ring\n",
      "ring\n",
      "ring\n",
      "ring\n",
      "ing\n",
      "ing\n",
      "ing\n",
      "ng\n",
      "ng\n",
      "string\n",
      "string\n",
      "string\n",
      "string\n",
      "string\n",
      "string\n",
      "tring\n",
      "tring\n",
      "tring\n",
      "tring\n",
      "tring\n",
      "ring\n",
      "ring\n",
      "ring\n",
      "ring\n",
      "ing\n",
      "ing\n",
      "ing\n",
      "ng\n",
      "ng\n",
      "g\n"
     ]
    }
   ],
   "source": [
    "def substring(s):\n",
    "    substr1=[]\n",
    "    for i in range(len(s)):\n",
    "        for j in range(i+1,len(s)+1):\n",
    "            substr1.append(s[i:])\n",
    "        for substring in substr1:\n",
    "            print(substring)\n",
    "input_string=input(\"even a string:\")\n",
    "substring(input_string)"
   ]
  },
  {
   "cell_type": "code",
   "execution_count": 104,
   "id": "e7a92f05-bcd6-4584-b4cd-6fbb0acba944",
   "metadata": {},
   "outputs": [
    {
     "name": "stdin",
     "output_type": "stream",
     "text": [
      "enter a string: 8\n"
     ]
    },
    {
     "name": "stdout",
     "output_type": "stream",
     "text": [
      "8 : 1\n"
     ]
    }
   ],
   "source": [
    "def frequency(strg):\n",
    "    frequency_dict={}\n",
    "    for i in strg:\n",
    "        if j in frequency_dict:\n",
    "            frequency_dict[i]+=1\n",
    "        else:\n",
    "            frequency_dict[i]=1\n",
    "    for char ,freq in frequency_dict.items():\n",
    "             print(char,\":\",freq)\n",
    "strg=input(\"enter a string:\")\n",
    "frequency(strg)"
   ]
  },
  {
   "cell_type": "code",
   "execution_count": 108,
   "id": "67d5f67b-b468-4fc9-9856-3edd8957c196",
   "metadata": {},
   "outputs": [
    {
     "name": "stdin",
     "output_type": "stream",
     "text": [
      "enter the number of terms: 15\n"
     ]
    },
    {
     "name": "stdout",
     "output_type": "stream",
     "text": [
      "Fibonacci sequence up to  15  terms:\n",
      "0 1 1 2 3 5 8 13 21 34 55 89 144 233 377 "
     ]
    }
   ],
   "source": [
    "n=int(input(\"enter the number of terms:\"))\n",
    "if n<=0:\n",
    "    print(\"enter a positive number\")\n",
    "else:\n",
    "    print(\"Fibonacci sequence up to \",n,\" terms:\")\n",
    "    a,b=0,1\n",
    "    for i in range(n):\n",
    "        print(a,end=\" \")\n",
    "        a,b=b,a+b"
   ]
  },
  {
   "cell_type": "code",
   "execution_count": 116,
   "id": "6a7413a0-433a-4553-8db7-a618391b9ae0",
   "metadata": {},
   "outputs": [
    {
     "name": "stdin",
     "output_type": "stream",
     "text": [
      " 9\n"
     ]
    },
    {
     "name": "stdout",
     "output_type": "stream",
     "text": [
      "9 x 1 = 9\n",
      "9 x 1 = 18\n",
      "9 x 1 = 27\n",
      "9 x 1 = 36\n",
      "9 x 1 = 45\n",
      "9 x 1 = 54\n",
      "9 x 1 = 63\n",
      "9 x 1 = 72\n",
      "9 x 1 = 81\n",
      "9 x 1 = 90\n"
     ]
    }
   ],
   "source": [
    "n=int(input())\n",
    "while True:\n",
    "    for i in range(1,11):\n",
    "        print(n,\"x\",1,\"=\",n*i)\n",
    "    break"
   ]
  },
  {
   "cell_type": "code",
   "execution_count": 118,
   "id": "73df1b39-0222-4c95-a1e5-13818250f971",
   "metadata": {},
   "outputs": [
    {
     "name": "stdin",
     "output_type": "stream",
     "text": [
      "enter the value of n: 3\n"
     ]
    },
    {
     "name": "stdout",
     "output_type": "stream",
     "text": [
      "123\n",
      "456\n",
      "789\n"
     ]
    }
   ],
   "source": [
    "def generate_matrix_pattern(n):\n",
    "    num=1\n",
    "    for i in range(n):\n",
    "        for j in range(n):\n",
    "            print(num,end='')\n",
    "            num+=1\n",
    "        print()\n",
    "n=int(input(\"enter the value of n:\"))\n",
    "generate_matrix_pattern(n)"
   ]
  },
  {
   "cell_type": "code",
   "execution_count": null,
   "id": "ef6e50fa-1776-4411-8807-a7e06c1540fa",
   "metadata": {},
   "outputs": [],
   "source": []
  }
 ],
 "metadata": {
  "kernelspec": {
   "display_name": "Python 3 (ipykernel)",
   "language": "python",
   "name": "python3"
  },
  "language_info": {
   "codemirror_mode": {
    "name": "ipython",
    "version": 3
   },
   "file_extension": ".py",
   "mimetype": "text/x-python",
   "name": "python",
   "nbconvert_exporter": "python",
   "pygments_lexer": "ipython3",
   "version": "3.12.4"
  }
 },
 "nbformat": 4,
 "nbformat_minor": 5
}
